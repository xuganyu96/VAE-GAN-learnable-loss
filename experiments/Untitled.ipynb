{
 "cells": [
  {
   "cell_type": "code",
   "execution_count": 7,
   "metadata": {},
   "outputs": [],
   "source": [
    "!sudo chmod 777 ../train_ConvVAE_ResNet_on_anime.py"
   ]
  },
  {
   "cell_type": "code",
   "execution_count": 8,
   "metadata": {},
   "outputs": [
    {
     "name": "stdout",
     "output_type": "stream",
     "text": [
      "../train_ConvVAE_ResNet_on_anime.py: 2: ../train_ConvVAE_ResNet_on_anime.py: import: not found\r\n",
      "from: can't read /var/mail/mxnet\r\n",
      "from: can't read /var/mail/mxnet.gluon\r\n",
      "../train_ConvVAE_ResNet_on_anime.py: 5: ../train_ConvVAE_ResNet_on_anime.py: import: not found\r\n",
      "../train_ConvVAE_ResNet_on_anime.py: 6: ../train_ConvVAE_ResNet_on_anime.py: import: not found\r\n",
      "../train_ConvVAE_ResNet_on_anime.py: 7: ../train_ConvVAE_ResNet_on_anime.py: Syntax error: \"(\" unexpected\r\n"
     ]
    }
   ],
   "source": [
    "!../train_ConvVAE_ResNet_on_anime.py"
   ]
  },
  {
   "cell_type": "code",
   "execution_count": 9,
   "metadata": {},
   "outputs": [],
   "source": [
    "import mxnet"
   ]
  },
  {
   "cell_type": "code",
   "execution_count": null,
   "metadata": {},
   "outputs": [],
   "source": []
  }
 ],
 "metadata": {
  "kernelspec": {
   "display_name": "Python 3",
   "language": "python",
   "name": "python3"
  },
  "language_info": {
   "codemirror_mode": {
    "name": "ipython",
    "version": 3
   },
   "file_extension": ".py",
   "mimetype": "text/x-python",
   "name": "python",
   "nbconvert_exporter": "python",
   "pygments_lexer": "ipython3",
   "version": "3.6.5"
  }
 },
 "nbformat": 4,
 "nbformat_minor": 2
}
